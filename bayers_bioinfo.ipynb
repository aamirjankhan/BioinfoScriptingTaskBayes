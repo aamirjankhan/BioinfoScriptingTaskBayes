{
 "cells": [
  {
   "cell_type": "code",
   "execution_count": 2,
   "metadata": {},
   "outputs": [
    {
     "name": "stdout",
     "output_type": "stream",
     "text": [
      "{'buys_computer': ['yes', 'yes', 'yes', 'yes', 'yes', 'yes', 'yes', 'yes', 'yes', 'no', 'no', 'no', 'no', 'no'], 'age': ['31-40', '>40', '>40', '31-40', '<=30', '>40', '<=30', '31-40', '31-40', '<=30', '<=30', '>40', '<=30', '>40'], 'income': ['high', 'medium', 'low', 'low', 'low', 'medium', 'medium', 'medium', 'high', 'high', 'high', 'medium', 'medium', 'low'], 'student': ['no', 'no', 'yes', 'yes', 'yes', 'yes', 'yes', 'no', 'yes', 'no', 'no', 'no', 'no', 'yes'], 'credit_rating': ['fair', 'fair', 'fair', 'excellent', 'fair', 'fair', 'excellent', 'excellent', 'fair', 'fair', 'excellent', 'excellent', 'fair', 'excellent']}\n",
      "Column buys_computer: no = 5; yes = 9\n",
      "Column age: 31-40 = 4; >40 = 5; <=30 = 5\n",
      "Column income: medium = 6; high = 4; low = 4\n",
      "Column student: no = 7; yes = 7\n",
      "Column credit_rating: fair = 8; excellent = 6\n",
      "buys_computer no = 0.35714285714285715\n",
      "buys_computer yes = 0.6428571428571429\n",
      "age 31-40 = 0.2857142857142857\n",
      "age >40 = 0.35714285714285715\n",
      "age <=30 = 0.35714285714285715\n",
      "income medium = 0.42857142857142855\n",
      "income high = 0.2857142857142857\n",
      "income low = 0.2857142857142857\n",
      "student no = 0.5\n",
      "student yes = 0.5\n",
      "credit_rating fair = 0.5714285714285714\n",
      "credit_rating excellent = 0.42857142857142855\n"
     ]
    }
   ],
   "source": [
    "file=open(\"ExampleData_29oct2019.txt\",\"r\",encoding=\"utf8\").read().split(\"\\n\")\n",
    "file1=[]\n",
    "for i in range(len(file)):\n",
    "    file1.append(file[i].split(\"\\t\"))\n",
    "count=0\n",
    "for data in file1:\n",
    "    count+=1\n",
    "    if data is ['']:\n",
    "        break\n",
    "dict1={}\n",
    "lst=[]\n",
    "for j in range(5):\n",
    "    for k in range(1,15):\n",
    "        strr=file1[0][j]\n",
    "        lst.append(file1[k][j])\n",
    "    dict1.update({strr:lst})\n",
    "    lst=[]\n",
    "def func1(dict1):\n",
    "    for i,j in dict1.items():\n",
    "        set1=set(j)\n",
    "        lst1=list(set1)\n",
    "        if len(lst1)==2:\n",
    "            print(\"Column \"+i+\": \"+lst1[0]+\" = \"+str(j.count(lst1[0]))+\"; \"+lst1[1]+\" = \"+str(j.count(lst1[1])))\n",
    "        elif len(lst1)==3:\n",
    "            print(\"Column \"+i+\": \"+lst1[0]+\" = \"+str(j.count(lst1[0]))+\"; \"+lst1[1]+\" = \"+str(j.count(lst1[1]))+\"; \"+lst1[2]+\" = \"+str(j.count(lst1[2])))\n",
    "print(dict1)\n",
    "func1(dict1)\n",
    "def func2(abc):\n",
    "    var1,var2,var3=0,0,0\n",
    "    lst1=dict1[abc]\n",
    "    dict2={}\n",
    "    if len(set(lst1))==2:\n",
    "        lst2=set(lst1)\n",
    "        var1=lst2.pop()\n",
    "        var2=lst2.pop()\n",
    "        dict2={var1:lst1.count(var1),var2:lst1.count(var2)}\n",
    "    elif len(set(lst1))==3:\n",
    "        lst2=set(lst1)\n",
    "        var1=lst2.pop()\n",
    "        var2=lst2.pop()\n",
    "        var3=lst2.pop()\n",
    "        dict2={var1:lst1.count(var1),var2:lst1.count(var2),var3:lst1.count(var3)}\n",
    "    return dict2  \n",
    "lst=list(dict1.keys())\n",
    "def func3(dict1,abc):\n",
    "    dict2=list(dict1.keys())\n",
    "    var=\"\"\n",
    "    if len(dict2)==2:\n",
    "        var=\"{0} {1} = {2}\\n{3} {4} = {5}\".format(abc,dict2[0],dict1[dict2[0]]/(dict1[dict2[0]]+dict1[dict2[1]]),\\\n",
    "                                abc,dict2[1],dict1[dict2[1]]/(dict1[dict2[0]]+dict1[dict2[1]]))\n",
    "        return var\n",
    "    elif len(dict2)==3:\n",
    "        var=\"{0} {1} = {2}\\n{3} {4} = {5}\\n{6} {7} = {8}\".format(abc,dict2[0],dict1[dict2[0]]/(dict1[dict2[0]]+dict1[dict2[1]]+dict1[dict2[2]]),\\\n",
    "                                abc,dict2[1],dict1[dict2[1]]/(dict1[dict2[0]]+dict1[dict2[1]]+dict1[dict2[2]]),\\\n",
    "                                abc,dict2[2],dict1[dict2[2]]/(dict1[dict2[0]]+dict1[dict2[1]]+dict1[dict2[2]]))\n",
    "        return var\n",
    "dictt={}\n",
    "for i in range(len(lst)):\n",
    "    dictt=func2(lst[i])\n",
    "    print(func3(dictt,lst[i]))"
   ]
  },
  {
   "cell_type": "code",
   "execution_count": null,
   "metadata": {},
   "outputs": [],
   "source": []
  }
 ],
 "metadata": {
  "kernelspec": {
   "display_name": "Python 3",
   "language": "python",
   "name": "python3"
  },
  "language_info": {
   "codemirror_mode": {
    "name": "ipython",
    "version": 3
   },
   "file_extension": ".py",
   "mimetype": "text/x-python",
   "name": "python",
   "nbconvert_exporter": "python",
   "pygments_lexer": "ipython3",
   "version": "3.7.4"
  }
 },
 "nbformat": 4,
 "nbformat_minor": 2
}
